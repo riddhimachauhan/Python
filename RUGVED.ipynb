{
 "cells": [
  {
   "cell_type": "code",
   "execution_count": 1,
   "id": "833c5279",
   "metadata": {},
   "outputs": [
    {
     "name": "stdout",
     "output_type": "stream",
     "text": [
      "all three are true\n",
      "True\n",
      "\n",
      "all three are not true\n",
      "False\n",
      "\n",
      "all three are not true\n",
      "False\n"
     ]
    }
   ],
   "source": [
    "#Q1)\n",
    "def triple_and(a,b,c):\n",
    "    if a and b and c:\n",
    "        print(\"all three are true\")\n",
    "        return True\n",
    "    else:\n",
    "        print(\"\\nall three are not true\")\n",
    "        return False\n",
    "\n",
    "T= True\n",
    "F= False\n",
    "print(triple_and(T,T,T))\n",
    "print(triple_and(T,F,T))\n",
    "print(triple_and(F,T,T))"
   ]
  },
  {
   "cell_type": "code",
   "execution_count": 1,
   "id": "d020723e",
   "metadata": {},
   "outputs": [
    {
     "name": "stdout",
     "output_type": "stream",
     "text": [
      "enter a word:jupyter\n",
      "['e', 'j', 'p', 'r', 't', 'u', 'y']\n",
      "j : 1\n",
      "u : 1\n",
      "p : 1\n",
      "y : 1\n",
      "t : 1\n",
      "e : 1\n",
      "r : 1\n"
     ]
    }
   ],
   "source": [
    "#Q2)\n",
    "#sort and print \n",
    "word = str(input(\"enter a word:\"))\n",
    "\n",
    "sorted_word = sorted(word)\n",
    "print(sorted_word)\n",
    "\n",
    "for i in word :\n",
    "    print(i,\":\",word.count(i))\n",
    "\n"
   ]
  },
  {
   "cell_type": "code",
   "execution_count": null,
   "id": "20d46542",
   "metadata": {},
   "outputs": [],
   "source": []
  },
  {
   "cell_type": "code",
   "execution_count": 9,
   "id": "2b947460",
   "metadata": {},
   "outputs": [
    {
     "name": "stdout",
     "output_type": "stream",
     "text": [
      "enter no.:123454321\n",
      "123454321  is a hill number\n"
     ]
    }
   ],
   "source": [
    "#Q3)#hill number\n",
    "\n",
    "# use 1 for loop\n",
    "x=(input(\"enter no.:\"))\n",
    "a=list(x)\n",
    "for i in range(a.index(max(a))):\n",
    "    if a[i]<a[i+1]:\n",
    "        b=1\n",
    "\n",
    "for i in range(a.index(max(a))+1,len(a)):\n",
    "    if (i+1)==len(a):\n",
    "        break\n",
    "    else :\n",
    "        c=1\n",
    "    \n",
    "    \n",
    "\n",
    "if (b==1) and (c==1):\n",
    "    print(x,\" is a hill number\")\n",
    "else:\n",
    "    print(x,\" is not a hill number\")"
   ]
  },
  {
   "cell_type": "code",
   "execution_count": 13,
   "id": "c44b933a",
   "metadata": {},
   "outputs": [
    {
     "name": "stdout",
     "output_type": "stream",
     "text": [
      "Enter a number to check if it's a Hill number: 123454321\n",
      "it is a Hill number.\n"
     ]
    }
   ],
   "source": [
    "#Q3)UPDATED\n",
    "def checkHillNumber(number):\n",
    "    numStr = str(number) \n",
    "\n",
    "    for i in range(1, len(numStr)):\n",
    "        if numStr[i] == numStr[i - 1]:\n",
    "            return False\n",
    "        if numStr[i] > numStr[i - 1]:\n",
    "            increasing = True\n",
    "        if numStr[i] < numStr[i - 1]:\n",
    "            decreasing = True\n",
    "\n",
    "    return increasing and decreasing\n",
    "\n",
    "num = int(input(\"Enter a number to check if it's a Hill number: \"))\n",
    "result = checkHillNumber(num)\n",
    "if result:\n",
    "    print(\"it is a Hill number.\")\n",
    "else:\n",
    "    print(\"it is not a Hill number.\")"
   ]
  },
  {
   "cell_type": "markdown",
   "id": "031cb9b0",
   "metadata": {},
   "source": []
  },
  {
   "cell_type": "code",
   "execution_count": 10,
   "id": "5bf10df6",
   "metadata": {},
   "outputs": [],
   "source": [
    "#Q4)\n",
    "def selectionsort(words):\n",
    "    for i in range(len(words) - 1):\n",
    "        min = i\n",
    "        for j in range(i + 1, len(words)):\n",
    "            if words[j] < words[min]:\n",
    "                min = j\n",
    "        words[i], words[min] = words[min], words[i]\n",
    "\n",
    "def ss():\n",
    "    sentence = input(\"Enter a sentence: \")\n",
    "    words = sentence.split()\n",
    "    selectionsort(words)\n",
    "    print(\"The sorted words are:\", words)\n",
    "ss()\n",
    "\n"
   ]
  },
  {
   "cell_type": "code",
   "execution_count": 1,
   "id": "29fe983b",
   "metadata": {},
   "outputs": [
    {
     "name": "stdout",
     "output_type": "stream",
     "text": [
      "enter the number3\n",
      "The factorial is = 6\n"
     ]
    }
   ],
   "source": [
    "#Q5)\n",
    "def factorial(n) :\n",
    "    if (n==0 or n==1):\n",
    "        #print(\"the factorial is 1\")\n",
    "        return 1\n",
    "    else :\n",
    "        return n*factorial(n-1)\n",
    "\n",
    "n = int(input(\"enter the number\"))\n",
    "print(\"The factorial is =\",factorial(n))"
   ]
  },
  {
   "cell_type": "code",
   "execution_count": null,
   "id": "12bf1dec",
   "metadata": {},
   "outputs": [],
   "source": [
    "#Q6)#anagram using sort\n",
    "def anagram(word1, word2):\n",
    "    if (sorted(word1) == sorted(word2)):\n",
    "        print(\"The strings are anagrams.\")\n",
    "    else:\n",
    "        print(\"The strings aren't anagrams.\")\n",
    "\n",
    "word1= str(input(\"enter the word 1\"))\n",
    "word2= str(input(\"enter the word 2\"))\n",
    "\n",
    "anagram(word1,word2)"
   ]
  },
  {
   "cell_type": "code",
   "execution_count": 21,
   "id": "1a002f53",
   "metadata": {},
   "outputs": [
    {
     "name": "stdout",
     "output_type": "stream",
     "text": [
      "Enter the first string: hello\n",
      "Enter the second string: ellho\n",
      "The strings are anagrams.\n"
     ]
    }
   ],
   "source": [
    "#Q6)anagram using strings\n",
    "def is_anagram(str1, str2):\n",
    "  l1 = []\n",
    "  l2 = []\n",
    " for char in str1:\n",
    "    l1.append(char)\n",
    "  for char in str2:\n",
    "    l2.append(char)\n",
    "  l1.sort()\n",
    "  l2.sort()\n",
    "\n",
    "  if l1 == l2:\n",
    "    return True\n",
    "  else:\n",
    "    return False\n",
    "\n",
    "str1 = input(\"Enter the first string: \")\n",
    "str2 = input(\"Enter the second string: \")\n",
    "\n",
    "\n",
    "if is_anagram(str1, str2):\n",
    "  print(\"The strings are anagrams.\")\n",
    "else:\n",
    "  print(\"The strings are not anagrams.\")"
   ]
  },
  {
   "cell_type": "code",
   "execution_count": 1,
   "id": "83a7a727",
   "metadata": {},
   "outputs": [
    {
     "name": "stdout",
     "output_type": "stream",
     "text": [
      "enter a integer5\n",
      "Fibonacci sequence:\n",
      "0\n",
      "1\n",
      "1\n",
      "2\n",
      "3\n"
     ]
    }
   ],
   "source": [
    "#Q7)\n",
    "n=int(input(\"enter a integer\"))\n",
    "def fibo(n):\n",
    "    if n <= 1:\n",
    "        return n\n",
    "    else:\n",
    "        return(fibo(n-1) + fibo(n-2))\n",
    "if n <= 0:\n",
    "    print(\"Plese enter a positive integer\")\n",
    "else:\n",
    "    print(\"Fibonacci sequence:\")\n",
    "    for i in range(n):\n",
    "        print(fibo(i))"
   ]
  },
  {
   "cell_type": "code",
   "execution_count": null,
   "id": "6481785a",
   "metadata": {},
   "outputs": [],
   "source": []
  },
  {
   "cell_type": "code",
   "execution_count": 25,
   "id": "a93f9af7",
   "metadata": {},
   "outputs": [
    {
     "name": "stdout",
     "output_type": "stream",
     "text": [
      "Enter a string: abcdabcdabcdabcd\n",
      "Enter the no.of terms: 4\n",
      "abcd\n",
      "abcd\n",
      "abcd\n",
      "abcd\n"
     ]
    }
   ],
   "source": [
    "#Q8)\n",
    "def dividestring(string, n):\n",
    "    if len(string) % n != 0:\n",
    "        return \"ERROR\"\n",
    "\n",
    "    parts = [string[i:i + n] for i in range(0, len(string), n)]\n",
    "    return parts\n",
    "\n",
    "string = input(\"Enter a string: \")\n",
    "n = int(input(\"Enter the no.of terms: \"))\n",
    "\n",
    "result = dividestring(string, n)\n",
    "\n",
    "if isinstance(result, list):\n",
    "    for part in result:\n",
    "        print(part)\n",
    "else:\n",
    "    print(result)"
   ]
  },
  {
   "cell_type": "code",
   "execution_count": 24,
   "id": "6bdbea49",
   "metadata": {},
   "outputs": [
    {
     "name": "stdout",
     "output_type": "stream",
     "text": [
      "enter the word to encryptabcdabcdabcdabcd\n",
      "enter the places to be moved4\n",
      "Encrypted word: efghefghefghefgh\n"
     ]
    }
   ],
   "source": [
    "#Q9)\n",
    "#ceaser cipher\n",
    "def encrypt(word, shift):\n",
    "    encrypted_word = \"\"\n",
    "    for char in word:\n",
    "        if char.isalpha():\n",
    "            upper = char.isupper()\n",
    "            char = char.lower()\n",
    "            shifted_char = chr(((ord(char) - ord('a') + shift) % 26) + ord('a'))\n",
    "            if upper:\n",
    "                shifted_char = shifted_char.upper()\n",
    "            encrypted_word += shifted_char\n",
    "        else:\n",
    "            encrypted_word += char\n",
    "    return encrypted_word\n",
    "\n",
    "# Example usage:\n",
    "oldword = str(input(\"enter the word to encrypt\"))\n",
    "shift = int(input(\"enter the places to be moved\"))\n",
    "encrypted_word = encrypt(oldword, shift)\n",
    "print(\"Encrypted word:\", encrypted_word)"
   ]
  },
  {
   "cell_type": "code",
   "execution_count": null,
   "id": "4620b0c4",
   "metadata": {},
   "outputs": [],
   "source": [
    "#Q9\n",
    "#ceasar cipher encrypt using ascii values\n",
    "def encrypt(word, shift):\n",
    "    encrypted = \"\"\n",
    "    for char in word:\n",
    "        char = ord(char)\n",
    "        if 97 <= char <= 122:\n",
    "            shifted = ((char - 97 + shift) % 26) + 97\n",
    "        elif 65 <= char <= 90:\n",
    "            shifted = ((char - 65 + shift) % 26) + 65\n",
    "        else:\n",
    "            shifted = char\n",
    "        encrypted += chr(shifted)\n",
    "    return encrypted\n",
    "\n",
    "oldword = input(\"Enter the word to encrypt: \")\n",
    "shift = int(input(\"Enter the number of positions to shift: \"))\n",
    "encrypted = encrypt(oldword, shift)\n",
    "print(\"Encrypted word:\", encrypted)"
   ]
  },
  {
   "cell_type": "code",
   "execution_count": 2,
   "id": "d28b6ec8",
   "metadata": {},
   "outputs": [
    {
     "name": "stdout",
     "output_type": "stream",
     "text": [
      "enter the card number: 4417123456789113\n",
      "Valid\n"
     ]
    }
   ],
   "source": [
    "#Q10)\n",
    "#checkcardnum using luhns algo\n",
    "sumoddnum=0\n",
    "sumevennum=0\n",
    "total =0\n",
    "\n",
    "cardnum=input(\"enter the card number: \")\n",
    "cardnum=cardnum[::-1]\n",
    "\n",
    "for x in cardnum[0::2]:\n",
    "    sumoddnum +=int(x)\n",
    "    \n",
    "for x in cardnum[1::2]: #double every secod digit and add\n",
    "    x=int(x)*2\n",
    "    if x>=10: #two digit number\n",
    "        sumevennum +=(1+ (x%10))\n",
    "    else :\n",
    "        sumevennum += x\n",
    "            \n",
    "total = sumoddnum + sumevennum\n",
    "\n",
    "if total % 10 == 0 :\n",
    "    print(\"Valid\")\n",
    "else :\n",
    "    print(\"invalid\")  "
   ]
  },
  {
   "cell_type": "code",
   "execution_count": 12,
   "id": "91805d31",
   "metadata": {},
   "outputs": [
    {
     "name": "stdout",
     "output_type": "stream",
     "text": [
      "Enter the text for which you want to calculate the Coleman-Liau Index: the lazy fox jumped over the quick dog.\n",
      "The Coleman-Liau Index for the given text is 9.165\n"
     ]
    }
   ],
   "source": [
    "#Q11)\n",
    "def colemanliau(text):\n",
    "    num_letters = len(text.strip(\" \"))\n",
    "    num_words = len(text.split())\n",
    "    num_sentences = text.count('.') + text.count('!') + text.count('?')+text.count('\" \"')\n",
    "    L = (num_letters / num_words) * 100\n",
    "    S = (num_sentences / num_words) * 100\n",
    "    CLI = 0.0588 * L - 0.296 * S - 15.8\n",
    "    return CLI\n",
    "\n",
    "def level():\n",
    "    text = input(\"Enter the text for which you want to calculate the Coleman-Liau Index: \")\n",
    "    index = colemanliau(text)\n",
    "    print(\"The Coleman-Liau Index for the given text is\",index)\n",
    "\n",
    "level()"
   ]
  },
  {
   "cell_type": "code",
   "execution_count": null,
   "id": "db5fdd92",
   "metadata": {},
   "outputs": [],
   "source": []
  },
  {
   "cell_type": "code",
   "execution_count": null,
   "id": "ab16a455",
   "metadata": {},
   "outputs": [],
   "source": []
  }
 ],
 "metadata": {
  "kernelspec": {
   "display_name": "Python 3 (ipykernel)",
   "language": "python",
   "name": "python3"
  },
  "language_info": {
   "codemirror_mode": {
    "name": "ipython",
    "version": 3
   },
   "file_extension": ".py",
   "mimetype": "text/x-python",
   "name": "python",
   "nbconvert_exporter": "python",
   "pygments_lexer": "ipython3",
   "version": "3.11.5"
  }
 },
 "nbformat": 4,
 "nbformat_minor": 5
}
