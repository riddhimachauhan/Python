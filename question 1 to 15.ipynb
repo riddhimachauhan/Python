{
 "cells": [
  {
   "cell_type": "code",
   "execution_count": 3,
   "id": "7a086c18",
   "metadata": {},
   "outputs": [],
   "source": [
    "import pandas as pd\n",
    "import matplotlib.pyplot as plt\n"
   ]
  },
  {
   "cell_type": "code",
   "execution_count": 4,
   "id": "571ead57",
   "metadata": {},
   "outputs": [],
   "source": [
    "# Load the IPL dataset\n",
    "matches = pd.read_csv(r\"C:\\Users\\ridds\\Desktop\\matches.csv\")\n",
    "delivery = pd.read_csv(r\"C:\\Users\\ridds\\Desktop\\deliveries.csv\")"
   ]
  },
  {
   "cell_type": "code",
   "execution_count": 5,
   "id": "595c535a",
   "metadata": {},
   "outputs": [
    {
     "name": "stdout",
     "output_type": "stream",
     "text": [
      "Total matches conducted in 2008: 58\n"
     ]
    }
   ],
   "source": [
    "# 1) Count the total number of matches conducted in the year 2008\n",
    "total_matches_2008 = matches[matches['season'] == 2008]['id'].count()\n",
    "print(\"Total matches conducted in 2008:\", total_matches_2008)"
   ]
  },
  {
   "cell_type": "code",
   "execution_count": 6,
   "id": "58aba628",
   "metadata": {},
   "outputs": [
    {
     "name": "stdout",
     "output_type": "stream",
     "text": [
      "City with maximum matches: Mumbai\n",
      "City with minimum matches: Bloemfontein\n"
     ]
    }
   ],
   "source": [
    "# 2) Find the city name where the maximum and minimum number of matches conducted.\n",
    "city_matches_count = matches['city'].value_counts()\n",
    "city_max_matches = city_matches_count.idxmax()\n",
    "city_min_matches = city_matches_count.idxmin()\n",
    "print(\"City with maximum matches:\", city_max_matches)\n",
    "print(\"City with minimum matches:\", city_min_matches)"
   ]
  },
  {
   "cell_type": "code",
   "execution_count": 7,
   "id": "3b1980c8",
   "metadata": {},
   "outputs": [
    {
     "name": "stdout",
     "output_type": "stream",
     "text": [
      "Matches count city-wise:\n",
      " city\n",
      "Mumbai            101\n",
      "Kolkata            77\n",
      "Delhi              74\n",
      "Bangalore          66\n",
      "Hyderabad          64\n",
      "Chennai            57\n",
      "Jaipur             47\n",
      "Chandigarh         46\n",
      "Pune               38\n",
      "Durban             15\n",
      "Bengaluru          14\n",
      "Visakhapatnam      13\n",
      "Centurion          12\n",
      "Ahmedabad          12\n",
      "Rajkot             10\n",
      "Mohali             10\n",
      "Indore              9\n",
      "Dharamsala          9\n",
      "Johannesburg        8\n",
      "Cuttack             7\n",
      "Ranchi              7\n",
      "Port Elizabeth      7\n",
      "Cape Town           7\n",
      "Abu Dhabi           7\n",
      "Sharjah             6\n",
      "Raipur              6\n",
      "Kochi               5\n",
      "Kanpur              4\n",
      "Nagpur              3\n",
      "Kimberley           3\n",
      "East London         3\n",
      "Bloemfontein        2\n",
      "Name: count, dtype: int64\n"
     ]
    }
   ],
   "source": [
    "# 3) Find the total count of matches city-wise\n",
    "matches_count_citywise = matches['city'].value_counts()\n",
    "print(\"Matches count city-wise:\\n\", matches_count_citywise)\n"
   ]
  },
  {
   "cell_type": "code",
   "execution_count": 8,
   "id": "97e35961",
   "metadata": {},
   "outputs": [
    {
     "name": "stdout",
     "output_type": "stream",
     "text": [
      "Team with maximum toss wins: Mumbai Indians\n",
      "Team with minimum toss wins: Rising Pune Supergiant\n"
     ]
    }
   ],
   "source": [
    "# 4) Find the Team which is the maximum and minimum toss winner.\n",
    "toss_winner_max = matches['toss_winner'].value_counts().idxmax()\n",
    "toss_winner_min = matches['toss_winner'].value_counts().idxmin()\n",
    "print(\"Team with maximum toss wins:\", toss_winner_max)\n",
    "print(\"Team with minimum toss wins:\", toss_winner_min)\n"
   ]
  },
  {
   "cell_type": "code",
   "execution_count": 9,
   "id": "c1491e00",
   "metadata": {},
   "outputs": [
    {
     "name": "stdout",
     "output_type": "stream",
     "text": [
      "Toss decision by each team:\n",
      " toss_winner                  toss_decision\n",
      "Chennai Super Kings          bat              48\n",
      "                             field            41\n",
      "Deccan Chargers              bat              24\n",
      "                             field            19\n",
      "Delhi Capitals               field             8\n",
      "                             bat               2\n",
      "Delhi Daredevils             field            51\n",
      "                             bat              29\n",
      "Gujarat Lions                field            14\n",
      "                             bat               1\n",
      "Kings XI Punjab              field            55\n",
      "                             bat              26\n",
      "Kochi Tuskers Kerala         field             5\n",
      "                             bat               3\n",
      "Kolkata Knight Riders        field            62\n",
      "                             bat              30\n",
      "Mumbai Indians               field            54\n",
      "                             bat              44\n",
      "Pune Warriors                bat              11\n",
      "                             field             9\n",
      "Rajasthan Royals             field            48\n",
      "                             bat              32\n",
      "Rising Pune Supergiant       field             6\n",
      "Rising Pune Supergiants      field             4\n",
      "                             bat               3\n",
      "Royal Challengers Bangalore  field            61\n",
      "                             bat              20\n",
      "Sunrisers Hyderabad          field            26\n",
      "                             bat              20\n",
      "Name: count, dtype: int64\n"
     ]
    }
   ],
   "source": [
    "# 5) Check the toss decision that the team has taken.\n",
    "toss_decision = matches.groupby('toss_winner')['toss_decision'].value_counts()\n",
    "print(\"Toss decision by each team:\\n\", toss_decision)\n"
   ]
  },
  {
   "cell_type": "code",
   "execution_count": 10,
   "id": "a18cbb86",
   "metadata": {},
   "outputs": [
    {
     "name": "stdout",
     "output_type": "stream",
     "text": [
      "Total normal matches: 743\n",
      "Total tie matches: 9\n"
     ]
    }
   ],
   "source": [
    "# 6) Count the total number of normal and tie matches.\n",
    "normal_matches = matches[matches['result'] == 'normal']['id'].count()\n",
    "tie_matches = matches[matches['result'] == 'tie']['id'].count()\n",
    "print(\"Total normal matches:\", normal_matches)\n",
    "print(\"Total tie matches:\", tie_matches)"
   ]
  },
  {
   "cell_type": "code",
   "execution_count": 11,
   "id": "33fbf01e",
   "metadata": {},
   "outputs": [
    {
     "name": "stdout",
     "output_type": "stream",
     "text": [
      "Teams in tie matches:\n",
      "                            team1                        team2\n",
      "33                 Gujarat Lions               Mumbai Indians\n",
      "125             Rajasthan Royals        Kolkata Knight Riders\n",
      "189              Kings XI Punjab          Chennai Super Kings\n",
      "387  Royal Challengers Bangalore          Sunrisers Hyderabad\n",
      "400             Delhi Daredevils  Royal Challengers Bangalore\n",
      "475             Rajasthan Royals        Kolkata Knight Riders\n",
      "535             Rajasthan Royals              Kings XI Punjab\n",
      "705        Kolkata Knight Riders               Delhi Capitals\n",
      "746               Mumbai Indians          Sunrisers Hyderabad\n"
     ]
    }
   ],
   "source": [
    "# 7) Find the team names where the match result is a tie.\n",
    "tie_teams = matches[matches['result'] == 'tie'][['team1', 'team2']]\n",
    "print(\"Teams in tie matches:\\n\", tie_teams)"
   ]
  },
  {
   "cell_type": "code",
   "execution_count": 12,
   "id": "6f2db3b6",
   "metadata": {},
   "outputs": [
    {
     "name": "stdout",
     "output_type": "stream",
     "text": [
      "Team with the highest runs victory: Mumbai Indians\n"
     ]
    }
   ],
   "source": [
    "# 8) Find the team name who won the match by the highest runs.\n",
    "max_runs_winner = matches[matches['win_by_runs'] == matches['win_by_runs'].max()]['winner'].values[0]\n",
    "print(\"Team with the highest runs victory:\", max_runs_winner)\n",
    "\n"
   ]
  },
  {
   "cell_type": "code",
   "execution_count": 13,
   "id": "56a0323c",
   "metadata": {},
   "outputs": [
    {
     "name": "stdout",
     "output_type": "stream",
     "text": [
      "Team with the lowest runs victory: Rising Pune Supergiant\n"
     ]
    }
   ],
   "source": [
    "# 9) Find the team name who won the match by the lowest runs.\n",
    "min_runs_winner = matches[matches['win_by_runs'] == matches['win_by_runs'].min()]['winner'].values[0]\n",
    "print(\"Team with the lowest runs victory:\", min_runs_winner)\n"
   ]
  },
  {
   "cell_type": "code",
   "execution_count": 14,
   "id": "56b53285",
   "metadata": {},
   "outputs": [
    {
     "name": "stdout",
     "output_type": "stream",
     "text": [
      "Players awarded 'Player of the match' more than 3 times:\n",
      "CH Gayle\n",
      "AB de Villiers\n",
      "RG Sharma\n",
      "MS Dhoni\n",
      "DA Warner\n",
      "YK Pathan\n",
      "SR Watson\n",
      "SK Raina\n",
      "G Gambhir\n",
      "MEK Hussey\n",
      "AM Rahane\n",
      "V Kohli\n",
      "V Sehwag\n",
      "DR Smith\n",
      "AD Russell\n",
      "A Mishra\n",
      "JH Kallis\n",
      "KA Pollard\n",
      "SE Marsh\n",
      "AT Rayudu\n",
      "SP Narine\n",
      "Harbhajan Singh\n",
      "SR Tendulkar\n",
      "RA Jadeja\n",
      "UT Yadav\n",
      "Rashid Khan\n",
      "RV Uthappa\n",
      "AC Gilchrist\n",
      "M Vijay\n",
      "RR Pant\n",
      "S Dhawan\n",
      "SL Malinga\n",
      "A Nehra\n",
      "BJ Hodge\n",
      "HH Pandya\n",
      "SC Ganguly\n",
      "SPD Smith\n",
      "PA Patel\n",
      "KC Sangakkara\n",
      "DPMD Jayawardene\n",
      "BB McCullum\n",
      "JP Faulkner\n",
      "AJ Finch\n",
      "DW Steyn\n",
      "Yuvraj Singh\n",
      "SV Samson\n",
      "GJ Maxwell\n",
      "JJ Bumrah\n",
      "Sandeep Sharma\n",
      "JD Unadkat\n",
      "JC Buttler\n",
      "B Kumar\n",
      "KL Rahul\n",
      "KD Karthik\n",
      "JP Duminy\n",
      "MK Pandey\n",
      "NM Coulter-Nile\n",
      "AR Patel\n",
      "N Rana\n",
      "F du Plessis\n",
      "SK Warne\n",
      "CA Lynn\n",
      "SS Iyer\n",
      "ML Hayden\n",
      "KH Pandya\n",
      "\n",
      "\n"
     ]
    }
   ],
   "source": [
    "# 10) Find the players who were awarded \"Player of the match\" more than 3 times.\n",
    "player_of_match_counts = matches['player_of_match'].value_counts()\n",
    "players_more_than_3_mom = player_of_match_counts[player_of_match_counts > 3].index.tolist()\n",
    "\n",
    "print(\"Players awarded 'Player of the match' more than 3 times:\")\n",
    "for player in players_more_than_3_mom:\n",
    "    print(player)\n",
    "print(\"\\n\")\n"
   ]
  },
  {
   "cell_type": "code",
   "execution_count": 15,
   "id": "2028bb0f",
   "metadata": {},
   "outputs": [
    {
     "name": "stdout",
     "output_type": "stream",
     "text": [
      "Player with the most 'Player of the match' awards:\n",
      " CH Gayle: (21)\n"
     ]
    }
   ],
   "source": [
    "# 11) Find the player who was awarded as the Player of the match maximum times.\n",
    "max_mom_player = player_of_match_counts.idxmax()\n",
    "max_mom_count = player_of_match_counts.max()\n",
    "print(f\"Player with the most 'Player of the match' awards:\\n {max_mom_player}: ({max_mom_count})\")\n",
    "\n"
   ]
  },
  {
   "cell_type": "code",
   "execution_count": 16,
   "id": "a8271ffa",
   "metadata": {},
   "outputs": [
    {
     "name": "stdout",
     "output_type": "stream",
     "text": [
      "Venue with the highest runs victory: Feroz Shah Kotla\n"
     ]
    }
   ],
   "source": [
    "# 12) Find the Venue where the team won the match by the highest runs.\n",
    "venue_max_runs = matches[matches['win_by_runs'] == matches['win_by_runs'].max()]['venue'].values[0]\n",
    "print(\"Venue with the highest runs victory:\", venue_max_runs)\n"
   ]
  },
  {
   "cell_type": "code",
   "execution_count": 17,
   "id": "b93cf8aa",
   "metadata": {},
   "outputs": [
    {
     "name": "stdout",
     "output_type": "stream",
     "text": [
      "Venue with the lowest runs victory: Maharashtra Cricket Association Stadium\n"
     ]
    }
   ],
   "source": [
    "# 13) Find the Venue where the team won the match by the lowest runs.\n",
    "venue_min_runs = matches[matches['win_by_runs'] == matches['win_by_runs'].min()]['venue'].values[0]\n",
    "print(\"Venue with the lowest runs victory:\", venue_min_runs)"
   ]
  },
  {
   "cell_type": "code",
   "execution_count": 18,
   "id": "c614d5e8",
   "metadata": {},
   "outputs": [
    {
     "name": "stdout",
     "output_type": "stream",
     "text": [
      "Umpire who umpired the most:\n",
      " S Ravi : (106.0\n",
      " times)\n"
     ]
    }
   ],
   "source": [
    "# 14) Find the Umpires who did umpiring maximum times.\n",
    "umpire1_counts = matches['umpire1'].value_counts()\n",
    "umpire2_counts = matches['umpire2'].value_counts()\n",
    "umpire_counts = umpire1_counts.add(umpire2_counts, fill_value=0)\n",
    "max_umpire = umpire_counts.idxmax()\n",
    "max_umpire_count = umpire_counts.max()\n",
    "print(f\"Umpire who umpired the most:\\n {max_umpire} : ({max_umpire_count}\\n times)\")"
   ]
  },
  {
   "cell_type": "code",
   "execution_count": 19,
   "id": "4657dd99",
   "metadata": {},
   "outputs": [
    {
     "name": "stdout",
     "output_type": "stream",
     "text": [
      "Total matches played in each season:\n",
      " season\n",
      "2008    58\n",
      "2009    57\n",
      "2010    60\n",
      "2011    73\n",
      "2012    74\n",
      "2013    76\n",
      "2014    60\n",
      "2015    59\n",
      "2016    60\n",
      "2017    59\n",
      "2018    60\n",
      "2019    60\n",
      "Name: count, dtype: int64\n"
     ]
    }
   ],
   "source": [
    "# 15) Find the Total matches played in each season\n",
    "matches_per_season = matches['season'].value_counts().sort_index()\n",
    "print(\"Total matches played in each season:\\n\", matches_per_season)"
   ]
  },
  {
   "cell_type": "code",
   "execution_count": null,
   "id": "7f411afc",
   "metadata": {},
   "outputs": [],
   "source": []
  }
 ],
 "metadata": {
  "kernelspec": {
   "display_name": "Python 3 (ipykernel)",
   "language": "python",
   "name": "python3"
  },
  "language_info": {
   "codemirror_mode": {
    "name": "ipython",
    "version": 3
   },
   "file_extension": ".py",
   "mimetype": "text/x-python",
   "name": "python",
   "nbconvert_exporter": "python",
   "pygments_lexer": "ipython3",
   "version": "3.11.5"
  }
 },
 "nbformat": 4,
 "nbformat_minor": 5
}
