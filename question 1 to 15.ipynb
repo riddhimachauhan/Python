{
 "cells": [
  {
   "cell_type": "code",
   "execution_count": 1,
   "id": "7a086c18",
   "metadata": {},
   "outputs": [],
   "source": [
    "import pandas as pd\n",
    "import matplotlib.pyplot as plt\n"
   ]
  },
  {
   "cell_type": "code",
   "execution_count": 2,
   "id": "571ead57",
   "metadata": {},
   "outputs": [],
   "source": [
    "# Load the IPL dataset\n",
    "matches = pd.read_csv(r\"C:\\Users\\ridds\\Desktop\\matches.csv\")\n",
    "delivery = pd.read_csv(r\"C:\\Users\\ridds\\Desktop\\deliveries.csv\")"
   ]
  },
  {
   "cell_type": "code",
   "execution_count": 4,
   "id": "595c535a",
   "metadata": {},
   "outputs": [
    {
     "data": {
      "text/plain": [
       "58"
      ]
     },
     "execution_count": 4,
     "metadata": {},
     "output_type": "execute_result"
    }
   ],
   "source": [
    "# 1) Count the total number of matches conducted in the year 2008\n",
    "total_matches_2008 = matches[matches['season'] == 2008]['id'].count()\n",
    "print(\"Total matches conducted in 2008:\", total_matches_2008)"
   ]
  },
  {
   "cell_type": "code",
   "execution_count": 5,
   "id": "58aba628",
   "metadata": {},
   "outputs": [
    {
     "name": "stdout",
     "output_type": "stream",
     "text": [
      "City with maximum matches: Mumbai\n",
      "City with minimum matches: Bloemfontein\n"
     ]
    }
   ],
   "source": [
    "# 2) Find the city name where the maximum and minimum number of matches conducted.\n",
    "city_matches_count = matches['city'].value_counts()\n",
    "city_max_matches = city_matches_count.idxmax()\n",
    "city_min_matches = city_matches_count.idxmin()\n",
    "print(\"City with maximum matches:\", city_max_matches)\n",
    "print(\"City with minimum matches:\", city_min_matches)"
   ]
  },
  {
   "cell_type": "code",
   "execution_count": null,
   "id": "3b1980c8",
   "metadata": {},
   "outputs": [],
   "source": [
    "# 3) Find the total count of matches city-wise\n",
    "matches_count_citywise = matches['city'].value_counts()\n",
    "print(\"Matches count city-wise:\\n\", matches_count_citywise)\n"
   ]
  },
  {
   "cell_type": "code",
   "execution_count": null,
   "id": "97e35961",
   "metadata": {},
   "outputs": [],
   "source": [
    "# 4) Find the Team which is the maximum and minimum toss winner.\n",
    "toss_winner_max = matches['toss_winner'].value_counts().idxmax()\n",
    "toss_winner_min = matches['toss_winner'].value_counts().idxmin()\n",
    "print(\"Team with maximum toss wins:\", toss_winner_max)\n",
    "print(\"Team with minimum toss wins:\", toss_winner_min)\n"
   ]
  },
  {
   "cell_type": "code",
   "execution_count": null,
   "id": "c1491e00",
   "metadata": {},
   "outputs": [],
   "source": [
    "# 5) Check the toss decision that the team has taken.\n",
    "toss_decision = matches.groupby('toss_winner')['toss_decision'].value_counts()\n",
    "print(\"Toss decision by each team:\\n\", toss_decision)\n"
   ]
  },
  {
   "cell_type": "code",
   "execution_count": null,
   "id": "a18cbb86",
   "metadata": {},
   "outputs": [],
   "source": [
    "# 6) Count the total number of normal and tie matches.\n",
    "normal_matches = matches[matches['result'] == 'normal']['id'].count()\n",
    "tie_matches = matches[matches['result'] == 'tie']['id'].count()\n",
    "print(\"Total normal matches:\", normal_matches)\n",
    "print(\"Total tie matches:\", tie_matches)"
   ]
  },
  {
   "cell_type": "code",
   "execution_count": null,
   "id": "33fbf01e",
   "metadata": {},
   "outputs": [],
   "source": [
    "# 7) Find the team names where the match result is a tie.\n",
    "tie_teams = matches[matches['result'] == 'tie'][['team1', 'team2']]\n",
    "print(\"Teams in tie matches:\\n\", tie_teams)"
   ]
  },
  {
   "cell_type": "code",
   "execution_count": null,
   "id": "6f2db3b6",
   "metadata": {},
   "outputs": [],
   "source": [
    "# 8) Find the team name who won the match by the highest runs.\n",
    "max_runs_winner = matches[matches['win_by_runs'] == matches['win_by_runs'].max()]['winner'].values[0]\n",
    "print(\"Team with the highest runs victory:\", max_runs_winner)\n",
    "\n"
   ]
  },
  {
   "cell_type": "code",
   "execution_count": null,
   "id": "56a0323c",
   "metadata": {},
   "outputs": [],
   "source": [
    "# 9) Find the team name who won the match by the lowest runs.\n",
    "min_runs_winner = matches[matches['win_by_runs'] == matches['win_by_runs'].min()]['winner'].values[0]\n",
    "print(\"Team with the lowest runs victory:\", min_runs_winner)\n"
   ]
  },
  {
   "cell_type": "code",
   "execution_count": null,
   "id": "56b53285",
   "metadata": {},
   "outputs": [],
   "source": [
    "# 10) Find the players who were awarded \"Player of the match\" more than 3 times.\n",
    "player_of_match_counts = matches['player_of_match'].value_counts()\n",
    "players_more_than_3_mom = player_of_match_counts[player_of_match_counts > 3].index.tolist()\n",
    "\n",
    "print(\"Players awarded 'Player of the match' more than 3 times:\")\n",
    "for player in players_more_than_3_mom:\n",
    "    print(player)\n",
    "print(\"\\n\")\n"
   ]
  },
  {
   "cell_type": "code",
   "execution_count": null,
   "id": "2028bb0f",
   "metadata": {},
   "outputs": [],
   "source": [
    "# 11) Find the player who was awarded as the Player of the match maximum times.\n",
    "max_mom_player = player_of_match_counts.idxmax()\n",
    "max_mom_count = player_of_match_counts.max()\n",
    "print(f\"Player with the most 'Player of the match' awards:\\n {max_mom_player}: ({max_mom_count})\")\n",
    "\n"
   ]
  },
  {
   "cell_type": "code",
   "execution_count": null,
   "id": "a8271ffa",
   "metadata": {},
   "outputs": [],
   "source": [
    "# 12) Find the Venue where the team won the match by the highest runs.\n",
    "venue_max_runs = matches[matches['win_by_runs'] == matches['win_by_runs'].max()]['venue'].values[0]\n",
    "print(\"Venue with the highest runs victory:\", venue_max_runs)\n"
   ]
  },
  {
   "cell_type": "code",
   "execution_count": null,
   "id": "b93cf8aa",
   "metadata": {},
   "outputs": [],
   "source": [
    "# 13) Find the Venue where the team won the match by the lowest runs.\n",
    "venue_min_runs = matches[matches['win_by_runs'] == matches['win_by_runs'].min()]['venue'].values[0]\n",
    "print(\"Venue with the lowest runs victory:\", venue_min_runs)"
   ]
  },
  {
   "cell_type": "code",
   "execution_count": null,
   "id": "c614d5e8",
   "metadata": {},
   "outputs": [],
   "source": [
    "# 14) Find the Umpires who did umpiring maximum times.\n",
    "umpire1_counts = matches['umpire1'].value_counts()\n",
    "umpire2_counts = matches['umpire2'].value_counts()\n",
    "umpire_counts = umpire1_counts.add(umpire2_counts, fill_value=0)\n",
    "max_umpire = umpire_counts.idxmax()\n",
    "max_umpire_count = umpire_counts.max()\n",
    "print(f\"Umpire who umpired the most:\\n {max_umpire} : ({max_umpire_count}\\n times)\")"
   ]
  },
  {
   "cell_type": "code",
   "execution_count": null,
   "id": "4657dd99",
   "metadata": {},
   "outputs": [],
   "source": [
    "# 15) Find the Total matches played in each season\n",
    "matches_per_season = matches['season'].value_counts().sort_index()\n",
    "print(\"Total matches played in each season:\\n\", matches_per_season)"
   ]
  },
  {
   "cell_type": "code",
   "execution_count": null,
   "id": "7f411afc",
   "metadata": {},
   "outputs": [],
   "source": []
  }
 ],
 "metadata": {
  "kernelspec": {
   "display_name": "Python 3 (ipykernel)",
   "language": "python",
   "name": "python3"
  },
  "language_info": {
   "codemirror_mode": {
    "name": "ipython",
    "version": 3
   },
   "file_extension": ".py",
   "mimetype": "text/x-python",
   "name": "python",
   "nbconvert_exporter": "python",
   "pygments_lexer": "ipython3",
   "version": "3.11.5"
  }
 },
 "nbformat": 4,
 "nbformat_minor": 5
}
